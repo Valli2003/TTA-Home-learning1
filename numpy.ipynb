{
 "cells": [
  {
   "cell_type": "code",
   "execution_count": 1,
   "metadata": {},
   "outputs": [],
   "source": [
    "file = open('number.txt', 'w')\n",
    "data =\"3,45,83,21\"\n",
    "file.write(data)\n",
    "file.close()"
   ]
  },
  {
   "cell_type": "code",
   "execution_count": 2,
   "metadata": {},
   "outputs": [
    {
     "name": "stdout",
     "output_type": "stream",
     "text": [
      "3\n"
     ]
    }
   ],
   "source": [
    "with open(\"number.txt\", \"r\") as myfile:\n",
    "    data = myfile.read().replace('/n', ',')\n",
    "\n",
    "myfile.close()\n",
    "print(data[6])"
   ]
  },
  {
   "cell_type": "code",
   "execution_count": 21,
   "metadata": {},
   "outputs": [],
   "source": [
    "my_file = open(\"number.txt\", \"a\")\n",
    "my_file.write(\"The end of the line.\\n\")\n",
    "my_file.close()"
   ]
  },
  {
   "cell_type": "code",
   "execution_count": 5,
   "metadata": {},
   "outputs": [
    {
     "name": "stdout",
     "output_type": "stream",
     "text": [
      "Enter the marks of five subjects::\n",
      "\n",
      "The Total marks is:   \t 429 / 500.00\n",
      "\n",
      "The Average marks is: \t 85.8\n",
      "\n",
      "The Percentage is:    \t 85.8 %\n",
      "\n",
      "The Grade is:         \t B\n"
     ]
    }
   ],
   "source": [
    "def CalcPercentGrade (S_1, S_2, S_3, S_4, S_5):\n",
    "  \n",
    "    total = S_1 + S_2 + S_3 + S_4 + S_5\n",
    "    average = total / 5.0\n",
    "    percentage = (total / 500.0) * 100\n",
    "\n",
    "    if average >= 90:\n",
    "        grade = 'A'\n",
    "    elif average >= 80 and average < 90:\n",
    "        grade = 'B'\n",
    "    elif average >= 70 and average < 80:\n",
    "        grade = 'C'\n",
    "    elif average >= 60 and average < 70:\n",
    "        grade = 'D'\n",
    "    else:\n",
    "        grade = 'E'\n",
    "\n",
    "\n",
    "    print (\"\\nThe Total marks is:   \\t\", total, \"/ 500.00\")\n",
    "    print (\"\\nThe Average marks is: \\t\", average)\n",
    "    print (\"\\nThe Percentage is:    \\t\", percentage, \"%\")\n",
    "    print (\"\\nThe Grade is:         \\t\", grade)\n",
    "print(\"Enter the marks of five subjects::\")\n",
    "\n",
    "subject_1 = int (input ())\n",
    "subject_2 = int (input ())\n",
    "subject_3 = int (input ())\n",
    "subject_4 = int (input ())\n",
    "subject_5 = int (input ())\n",
    "\n",
    "CalcPercentGrade (subject_1, subject_2, subject_3, subject_4, subject_5)"
   ]
  },
  {
   "cell_type": "code",
   "execution_count": 6,
   "metadata": {},
   "outputs": [
    {
     "name": "stdout",
     "output_type": "stream",
     "text": [
      "[ 0  2  4  6  8 10 12 14]\n"
     ]
    }
   ],
   "source": [
    "#  1create a 1d  even number array \n",
    "import numpy as np\n",
    "array=np.arange(0,15,2)\n",
    "print(array)\n"
   ]
  },
  {
   "cell_type": "code",
   "execution_count": 7,
   "metadata": {},
   "outputs": [
    {
     "name": "stdout",
     "output_type": "stream",
     "text": [
      "[0 1 2 3 4 5 6 7 8 9]\n"
     ]
    }
   ],
   "source": [
    "import numpy as np\n",
    "array = np.arange(0,10)\n",
    "print (array)"
   ]
  },
  {
   "cell_type": "code",
   "execution_count": null,
   "metadata": {},
   "outputs": [],
   "source": [
    "#2Create a 3×3 NumPy array of all Boolean value Trues,False\n",
    "import  numpy as np\n",
    "ones=np. ones([3,3])\n",
    "b=np.ones((3,3),dtype=bool)\n",
    "print (ones)\n",
    "print(b)"
   ]
  },
  {
   "cell_type": "code",
   "execution_count": null,
   "metadata": {},
   "outputs": [],
   "source": [
    "#3 Extract all odd numbers from array of 1-10\n",
    "import numpy as np\n",
    "C=np.array([1,2,3,4,5,6,7,8,9,10])\n",
    "array=np.arange(1,13,2)\n",
    "d=np.where (C%2 == 0)\n",
    "print(array)\n",
    "print(d)"
   ]
  },
  {
   "cell_type": "code",
   "execution_count": 8,
   "metadata": {},
   "outputs": [
    {
     "name": "stdout",
     "output_type": "stream",
     "text": [
      "[ 1 -1  3 -1  5 -1  7 -1  9 -1]\n"
     ]
    }
   ],
   "source": [
    "#4 Replace all odd numbers in an array of 1-10 with the value -1\n",
    "e=np.array([1,2,3,4,5,6,7,8,9,10])\n",
    "f=np.where(e%2 ==0)\n",
    "e[f]= -1\n",
    "print (e)\n"
   ]
  },
  {
   "cell_type": "code",
   "execution_count": 9,
   "metadata": {},
   "outputs": [
    {
     "name": "stdout",
     "output_type": "stream",
     "text": [
      "[[ 1  2  3  4]\n",
      " [ 5  6  7  8]\n",
      " [ 9 10 11 12]]\n"
     ]
    }
   ],
   "source": [
    "# 5 Convert a 1D array to a 2D array with 2 rows\n",
    "import numpy as np\n",
    "array=np.array([1,2,3,4,5,6,7,8,9,10,11,12])\n",
    "newarray=array.reshape(3,4)\n",
    "print(newarray)\n"
   ]
  },
  {
   "cell_type": "code",
   "execution_count": 11,
   "metadata": {},
   "outputs": [
    {
     "name": "stdout",
     "output_type": "stream",
     "text": [
      "[1 2 3 4 5 4 5 6 7 8 9]\n"
     ]
    }
   ],
   "source": [
    "#Create two arrays a and b, stack these two arrays vertically use the  np.dot and np.sum to calculate totals\n",
    "x=np.array([1,2,3,4,5])\n",
    "y=np.array([4,5,6,7,8,9])\n",
    "x=np.concatenate((x,y))\n",
    "print(x)"
   ]
  },
  {
   "cell_type": "code",
   "execution_count": 13,
   "metadata": {},
   "outputs": [
    {
     "name": "stdout",
     "output_type": "stream",
     "text": [
      "[1 2 3 4 5 7 2 1 4 5 6 7 8 9 2 1]\n",
      "[1 2 3 4 5 6 7 8 9]\n"
     ]
    }
   ],
   "source": [
    "#8. In two arrays a ( 1,2,3,4,5) and b ( 4,5,6,7,8,9) – remove all repeating  items present in array b\n",
    "\n",
    "a=np.array([1,2,3,4,5,7,2,1])\n",
    "b=np.array([4,5,6,7,8,9,2,1])\n",
    "c=np.concatenate((a,b))\n",
    "print(c)\n",
    "c=np.unique(c)\n",
    "print(c)"
   ]
  },
  {
   "cell_type": "code",
   "execution_count": 14,
   "metadata": {},
   "outputs": [
    {
     "name": "stdout",
     "output_type": "stream",
     "text": [
      "[1 2 3 4 5 4 5 6 7 8 9]\n",
      "[3 4 5 4 5 6]\n",
      "27\n"
     ]
    }
   ],
   "source": [
    "#9 Get all items between 3 and 7 from a and b and sum them together\n",
    "a=np.array([1,2,3,4,5])\n",
    "b=np.array([4,5,6,7,8,9])\n",
    "c=np.concatenate((a,b))\n",
    "print(c)\n",
    "d=c[(3<=c)&(c<7)]\n",
    "print(d)\n",
    "print(sum(d))"
   ]
  }
 ],
 "metadata": {
  "interpreter": {
   "hash": "49ba967e63a26be8a6ad6f0e62ebf27255e244b47e32acee286ca20eefdf1ba7"
  },
  "kernelspec": {
   "display_name": "Python 3.9.6 64-bit",
   "language": "python",
   "name": "python3"
  },
  "language_info": {
   "codemirror_mode": {
    "name": "ipython",
    "version": 3
   },
   "file_extension": ".py",
   "mimetype": "text/x-python",
   "name": "python",
   "nbconvert_exporter": "python",
   "pygments_lexer": "ipython3",
   "version": "3.9.6"
  },
  "orig_nbformat": 4
 },
 "nbformat": 4,
 "nbformat_minor": 2
}
