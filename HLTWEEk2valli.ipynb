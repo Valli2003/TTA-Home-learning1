{
 "cells": [
  {
   "cell_type": "code",
   "execution_count": 8,
   "metadata": {},
   "outputs": [],
   "source": [
    "import random\n",
    "user_name= input(\"Hi My name is \")\n",
    "number=random.randint(1,10)\n",
    "print(\"Mm\"+user_nam+\"Think of a number between 1 to 10\")\n",
    "guess=int(input(\"The guess no is\"))\n",
    "if guess==number:\n",
    "    print(\"have I\"+user_name+\"guessed ur number\")\n",
    "else:\n",
    "    print(\"My guess is wrong\")\n",
    "\n"
   ]
  }
 ],
 "metadata": {
  "interpreter": {
   "hash": "c3880892f37ec4549cc9eed13d52f7aa781cbea0db3ff0fb83be5aeb9742b3a8"
  },
  "kernelspec": {
   "display_name": "Python 3.10.2 64-bit",
   "language": "python",
   "name": "python3"
  },
  "language_info": {
   "codemirror_mode": {
    "name": "ipython",
    "version": 3
   },
   "file_extension": ".py",
   "mimetype": "text/x-python",
   "name": "python",
   "nbconvert_exporter": "python",
   "pygments_lexer": "ipython3",
   "version": "3.10.3"
  },
  "orig_nbformat": 4
 },
 "nbformat": 4,
 "nbformat_minor": 2
}
