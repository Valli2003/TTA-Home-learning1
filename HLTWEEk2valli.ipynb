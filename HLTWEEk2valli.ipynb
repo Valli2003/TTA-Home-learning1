{
 "cells": [
  {
   "cell_type": "code",
   "execution_count": 21,
   "metadata": {},
   "outputs": [
    {
     "name": "stdout",
     "output_type": "stream",
     "text": [
      "MmsenThink of a number between 1 to 10\n",
      "The guess no is 7\n",
      "My guess is wrong\n"
     ]
    }
   ],
   "source": [
    "#task1 Guess ur number\n",
    "import random\n",
    "user_name= input(\"Hi My name is \")\n",
    "number=random.randint(1,10)\n",
    "print(\"Mm\"+user_name+\"Think of a number between 1 to 10\")\n",
    "guess=int(input(\"The guess no is\"))\n",
    "print(\"The guess no is\",guess)\n",
    "if guess==number:\n",
    "    print(\"have I\"+user_name+\"guessed ur number\")\n",
    "else:\n",
    "    print(\"My guess is wrong\")\n",
    "\n",
    "\n"
   ]
  },
  {
   "cell_type": "code",
   "execution_count": 24,
   "metadata": {},
   "outputs": [
    {
     "name": "stdout",
     "output_type": "stream",
     "text": [
      "Joke 3\n"
     ]
    }
   ],
   "source": [
    "#task 2 Generate a random number \n",
    "num = int(input(\"Enter a number betwenn 1 to 100: \"))\n",
    "if (num ) <30:\n",
    "   print(\"Joke 1\")\n",
    " elif 30 >(num)<60 ) :\n",
    "  print |(\"Joke2\") \n",
    "else:\n",
    "   print(\"Joke 3\")"
   ]
  },
  {
   "cell_type": "code",
   "execution_count": 22,
   "metadata": {},
   "outputs": [
    {
     "name": "stdout",
     "output_type": "stream",
     "text": [
      "Your favourite meal is chicken with a glass of fanta starter ert and dessert cream\n"
     ]
    }
   ],
   "source": [
    "#Task 3My favourite food\n",
    "starter= input(\"Enter you favourite starter\")\n",
    "Main=input(\"Enter you main food\")\n",
    "dessert=input(\"Enter your favouite desert \")\n",
    "drink =input(\"Enter the name of the drink\")\n",
    "print(\"Your favourite meal is\",Main ,\"with a glass of\" ,drink,\"starter\",starter,\"and dessert\",dessert)   \n",
    "\n",
    "\n"
   ]
  },
  {
   "cell_type": "code",
   "execution_count": 23,
   "metadata": {},
   "outputs": [
    {
     "name": "stdout",
     "output_type": "stream",
     "text": [
      "motorbike_price = 2000\n",
      "2000\n",
      "1800.0\n",
      "1620.0\n",
      "1458.0\n",
      "1312.2\n",
      "1180.98\n",
      "1062.882\n"
     ]
    }
   ],
   "source": [
    "#Task4 Motor bike \n",
    "price=2000\n",
    "print(\"motorbike_price =\", price)\n",
    "while price>1000:\n",
    "    print(price)\n",
    "    price=price*0.9\n",
    "\n"
   ]
  },
  {
   "cell_type": "code",
   "execution_count": null,
   "metadata": {},
   "outputs": [],
   "source": [
    "task 5 Mathematical operators\n",
    "a = input('Enter first number: ')\n",
    "b = input('Enter second number: ')\n",
    "choice=print(\"Enter the choice of operator\",+ - * / ,)\n",
    "if choice == +:\n",
    "    print(\"the sum is =\",a+b,)\n",
    "    \n",
    "elif choice == -:\n",
    "\n",
    "    print(\"the difference is=\",a-b,)\n",
    "    \n",
    "elif choice == *:\n",
    "    print(\"The productis\",a*b,)\n",
    "   \n",
    "elif (choice ==/ ):\n",
    "    print(\"the dividend is \",a/b)\n",
    "else:\n",
    "    print(\"Exit\")"
   ]
  }
 ],
 "metadata": {
  "interpreter": {
   "hash": "c3880892f37ec4549cc9eed13d52f7aa781cbea0db3ff0fb83be5aeb9742b3a8"
  },
  "kernelspec": {
   "display_name": "Python 3.10.2 64-bit",
   "language": "python",
   "name": "python3"
  },
  "language_info": {
   "codemirror_mode": {
    "name": "ipython",
    "version": 3
   },
   "file_extension": ".py",
   "mimetype": "text/x-python",
   "name": "python",
   "nbconvert_exporter": "python",
   "pygments_lexer": "ipython3",
   "version": "3.10.3"
  },
  "orig_nbformat": 4
 },
 "nbformat": 4,
 "nbformat_minor": 2
}
