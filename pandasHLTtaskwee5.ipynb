{
 "cells": [
  {
   "cell_type": "code",
   "execution_count": 2,
   "metadata": {},
   "outputs": [
    {
     "name": "stdout",
     "output_type": "stream",
     "text": [
      "Requirement already satisfied: pandas in c:\\users\\valse\\appdata\\local\\programs\\python\\python310\\lib\\site-packages (1.4.2)Note: you may need to restart the kernel to use updated packages.\n",
      "Requirement already satisfied: python-dateutil>=2.8.1 in c:\\users\\valse\\appdata\\roaming\\python\\python310\\site-packages (from pandas) (2.8.2)\n",
      "Requirement already satisfied: pytz>=2020.1 in c:\\users\\valse\\appdata\\local\\programs\\python\\python310\\lib\\site-packages (from pandas) (2022.1)\n",
      "Requirement already satisfied: numpy>=1.21.0 in c:\\users\\valse\\appdata\\local\\programs\\python\\python310\\lib\\site-packages (from pandas) (1.22.3)\n",
      "Requirement already satisfied: six>=1.5 in c:\\users\\valse\\appdata\\roaming\\python\\python310\\site-packages (from python-dateutil>=2.8.1->pandas) (1.16.0)\n",
      "\n"
     ]
    }
   ],
   "source": [
    "pip install pandas"
   ]
  },
  {
   "cell_type": "code",
   "execution_count": 3,
   "metadata": {},
   "outputs": [],
   "source": [
    "## Import Pandas\n",
    "import pandas as pd"
   ]
  },
  {
   "cell_type": "code",
   "execution_count": 2,
   "metadata": {},
   "outputs": [
    {
     "name": "stdout",
     "output_type": "stream",
     "text": [
      "    Destination  Score  Average  Hotel Visited city Unnamed: 5\n",
      "0         India      6        5    120        Delhi           \n",
      "1         China      7        4    130      Beijing        NaN\n",
      "2         Spain      6        5    140       Madrid        NaN\n",
      "3         Italy      9        6    200         Rome        NaN\n",
      "4        Greece      8        5    100        Corfu        NaN\n",
      "5        France      9        1    120        paris        NaN\n",
      "6           USA      6        5    130      newyork        NaN\n",
      "7           UAE      7        4    120        Dubai        NaN\n",
      "8      Portugal      6        3    150       Lisban        NaN\n",
      "9      Maldices      8        6    120        Maldi        NaN\n",
      "10     Thailand      9        4    120       bangok        NaN\n",
      "11       Africa      7        4    150       Durham        NaN\n",
      "12       Poland      6        5    100         Pola        NaN\n",
      "13  Switzerland      6        6    110       Geneva        NaN\n",
      "14    Singapore      7        4    100         City        NaN\n"
     ]
    },
    {
     "data": {
      "text/plain": [
       "(15, 6)"
      ]
     },
     "execution_count": 2,
     "metadata": {},
     "output_type": "execute_result"
    }
   ],
   "source": [
    "#task 1 Rows and columns\n",
    "import pandas as pd\n",
    "tourist=pd.read_csv(\"Holiday.csv\")\n",
    "print(tourist)\n",
    "tourist.shape"
   ]
  },
  {
   "cell_type": "code",
   "execution_count": 3,
   "metadata": {},
   "outputs": [
    {
     "name": "stdout",
     "output_type": "stream",
     "text": [
      "Dubai\n",
      "   Average  Hotel\n",
      "3        6    200\n",
      "4        5    100\n",
      "5        1    120\n",
      "6        5    130\n"
     ]
    }
   ],
   "source": [
    "# task 2print row {3,8 using loc,iloc}\n",
    "touristdata2=pd.read_csv(\"holiday.csv\",index_col=\"Destination\")\n",
    "#print(touristdata2.loc[[\"India\",\"UAE\"]])\n",
    "#print(touristdata.iloc[[4,8]])\n",
    "data = pd.read_csv(\"holiday.csv\")\n",
    "print(data.iloc[7,4])\n",
    "print(data.iloc[3:7,2:4])"
   ]
  },
  {
   "cell_type": "code",
   "execution_count": 8,
   "metadata": {},
   "outputs": [
    {
     "data": {
      "text/plain": [
       "4.466666666666667"
      ]
     },
     "execution_count": 8,
     "metadata": {},
     "output_type": "execute_result"
    }
   ],
   "source": [
    "#task 3mean number of all inclusive hotel of all destinatiom\n",
    "import pandas as pd\n",
    "data=pd.read_csv(\"holiday.csv\")\n",
    "data[\"Hotel\"].mean()\n",
    "data[\"Average\"].mean()"
   ]
  },
  {
   "cell_type": "code",
   "execution_count": 14,
   "metadata": {},
   "outputs": [
    {
     "data": {
      "text/html": [
       "<div>\n",
       "<style scoped>\n",
       "    .dataframe tbody tr th:only-of-type {\n",
       "        vertical-align: middle;\n",
       "    }\n",
       "\n",
       "    .dataframe tbody tr th {\n",
       "        vertical-align: top;\n",
       "    }\n",
       "\n",
       "    .dataframe thead th {\n",
       "        text-align: right;\n",
       "    }\n",
       "</style>\n",
       "<table border=\"1\" class=\"dataframe\">\n",
       "  <thead>\n",
       "    <tr style=\"text-align: right;\">\n",
       "      <th></th>\n",
       "      <th>Destination</th>\n",
       "      <th>Score</th>\n",
       "      <th>Average</th>\n",
       "      <th>Hotel</th>\n",
       "      <th>Visited city</th>\n",
       "      <th>Unnamed: 5</th>\n",
       "    </tr>\n",
       "  </thead>\n",
       "  <tbody>\n",
       "    <tr>\n",
       "      <th>0</th>\n",
       "      <td>India</td>\n",
       "      <td>6</td>\n",
       "      <td>5</td>\n",
       "      <td>120</td>\n",
       "      <td>Delhi</td>\n",
       "      <td></td>\n",
       "    </tr>\n",
       "    <tr>\n",
       "      <th>2</th>\n",
       "      <td>Spain</td>\n",
       "      <td>6</td>\n",
       "      <td>5</td>\n",
       "      <td>140</td>\n",
       "      <td>Madrid</td>\n",
       "      <td>NaN</td>\n",
       "    </tr>\n",
       "    <tr>\n",
       "      <th>6</th>\n",
       "      <td>USA</td>\n",
       "      <td>6</td>\n",
       "      <td>5</td>\n",
       "      <td>130</td>\n",
       "      <td>newyork</td>\n",
       "      <td>NaN</td>\n",
       "    </tr>\n",
       "    <tr>\n",
       "      <th>8</th>\n",
       "      <td>Portugal</td>\n",
       "      <td>6</td>\n",
       "      <td>3</td>\n",
       "      <td>150</td>\n",
       "      <td>Lisban</td>\n",
       "      <td>NaN</td>\n",
       "    </tr>\n",
       "    <tr>\n",
       "      <th>12</th>\n",
       "      <td>Poland</td>\n",
       "      <td>6</td>\n",
       "      <td>5</td>\n",
       "      <td>100</td>\n",
       "      <td>Pola</td>\n",
       "      <td>NaN</td>\n",
       "    </tr>\n",
       "    <tr>\n",
       "      <th>13</th>\n",
       "      <td>Switzerland</td>\n",
       "      <td>6</td>\n",
       "      <td>6</td>\n",
       "      <td>110</td>\n",
       "      <td>Geneva</td>\n",
       "      <td>NaN</td>\n",
       "    </tr>\n",
       "  </tbody>\n",
       "</table>\n",
       "</div>"
      ],
      "text/plain": [
       "    Destination  Score  Average  Hotel Visited city Unnamed: 5\n",
       "0         India      6        5    120        Delhi           \n",
       "2         Spain      6        5    140       Madrid        NaN\n",
       "6           USA      6        5    130      newyork        NaN\n",
       "8      Portugal      6        3    150       Lisban        NaN\n",
       "12       Poland      6        5    100         Pola        NaN\n",
       "13  Switzerland      6        6    110       Geneva        NaN"
      ]
     },
     "execution_count": 14,
     "metadata": {},
     "output_type": "execute_result"
    }
   ],
   "source": [
    "#task 4 Find the lowest scoring destination\n",
    "holiday_file=pd.read_csv(\"holiday.csv\")\n",
    "max_filter= holiday_file[\"Score\"]== holiday_file[\"Score\"].min()\n",
    "holiday_file[max_filter]"
   ]
  },
  {
   "cell_type": "code",
   "execution_count": 13,
   "metadata": {},
   "outputs": [
    {
     "data": {
      "text/html": [
       "<div>\n",
       "<style scoped>\n",
       "    .dataframe tbody tr th:only-of-type {\n",
       "        vertical-align: middle;\n",
       "    }\n",
       "\n",
       "    .dataframe tbody tr th {\n",
       "        vertical-align: top;\n",
       "    }\n",
       "\n",
       "    .dataframe thead th {\n",
       "        text-align: right;\n",
       "    }\n",
       "</style>\n",
       "<table border=\"1\" class=\"dataframe\">\n",
       "  <thead>\n",
       "    <tr style=\"text-align: right;\">\n",
       "      <th></th>\n",
       "      <th>Destination</th>\n",
       "      <th>Score</th>\n",
       "      <th>Average</th>\n",
       "      <th>Hotel</th>\n",
       "      <th>Visited city</th>\n",
       "      <th>Unnamed: 5</th>\n",
       "    </tr>\n",
       "  </thead>\n",
       "  <tbody>\n",
       "    <tr>\n",
       "      <th>3</th>\n",
       "      <td>Italy</td>\n",
       "      <td>9</td>\n",
       "      <td>6</td>\n",
       "      <td>200</td>\n",
       "      <td>Rome</td>\n",
       "      <td>NaN</td>\n",
       "    </tr>\n",
       "    <tr>\n",
       "      <th>5</th>\n",
       "      <td>France</td>\n",
       "      <td>9</td>\n",
       "      <td>1</td>\n",
       "      <td>120</td>\n",
       "      <td>paris</td>\n",
       "      <td>NaN</td>\n",
       "    </tr>\n",
       "    <tr>\n",
       "      <th>10</th>\n",
       "      <td>Thailand</td>\n",
       "      <td>9</td>\n",
       "      <td>4</td>\n",
       "      <td>120</td>\n",
       "      <td>bangok</td>\n",
       "      <td>NaN</td>\n",
       "    </tr>\n",
       "  </tbody>\n",
       "</table>\n",
       "</div>"
      ],
      "text/plain": [
       "   Destination  Score  Average  Hotel Visited city Unnamed: 5\n",
       "3        Italy      9        6    200         Rome        NaN\n",
       "5       France      9        1    120        paris        NaN\n",
       "10    Thailand      9        4    120       bangok        NaN"
      ]
     },
     "execution_count": 13,
     "metadata": {},
     "output_type": "execute_result"
    }
   ],
   "source": [
    "#task 5 Find the highest scoring destination\n",
    "holiday_file=pd.read_csv(\"holiday.csv\")\n",
    "max_filter= holiday_file[\"Score\"]== holiday_file[\"Score\"].max()\n",
    "holiday_file[max_filter]"
   ]
  },
  {
   "cell_type": "code",
   "execution_count": 16,
   "metadata": {},
   "outputs": [
    {
     "data": {
      "text/html": [
       "<div>\n",
       "<style scoped>\n",
       "    .dataframe tbody tr th:only-of-type {\n",
       "        vertical-align: middle;\n",
       "    }\n",
       "\n",
       "    .dataframe tbody tr th {\n",
       "        vertical-align: top;\n",
       "    }\n",
       "\n",
       "    .dataframe thead th {\n",
       "        text-align: right;\n",
       "    }\n",
       "</style>\n",
       "<table border=\"1\" class=\"dataframe\">\n",
       "  <thead>\n",
       "    <tr style=\"text-align: right;\">\n",
       "      <th></th>\n",
       "      <th>Destination</th>\n",
       "      <th>Score</th>\n",
       "      <th>Average</th>\n",
       "      <th>Hotel</th>\n",
       "      <th>Visited city</th>\n",
       "      <th>Unnamed: 5</th>\n",
       "    </tr>\n",
       "  </thead>\n",
       "  <tbody>\n",
       "    <tr>\n",
       "      <th>3</th>\n",
       "      <td>Italy</td>\n",
       "      <td>9</td>\n",
       "      <td>6</td>\n",
       "      <td>200</td>\n",
       "      <td>Rome</td>\n",
       "      <td>NaN</td>\n",
       "    </tr>\n",
       "  </tbody>\n",
       "</table>\n",
       "</div>"
      ],
      "text/plain": [
       "  Destination  Score  Average  Hotel Visited city Unnamed: 5\n",
       "3       Italy      9        6    200         Rome        NaN"
      ]
     },
     "execution_count": 16,
     "metadata": {},
     "output_type": "execute_result"
    }
   ],
   "source": [
    "# destination morevthan 9 All inclusive hotel\n",
    "import pandas as pd\n",
    "data = pd.read_csv(\"Holiday.csv\")\n",
    "tourist_filter=(data[\"Hotel\"]== 200)\n",
    "#tourist_filter = (data[\"Score\"] > 3) & (data[\"Hotel\"] == 120)\n",
    "filter = data[tourist_filter] \n",
    "filter.head(3)"
   ]
  },
  {
   "cell_type": "code",
   "execution_count": 23,
   "metadata": {},
   "outputs": [
    {
     "data": {
      "text/html": [
       "<div>\n",
       "<style scoped>\n",
       "    .dataframe tbody tr th:only-of-type {\n",
       "        vertical-align: middle;\n",
       "    }\n",
       "\n",
       "    .dataframe tbody tr th {\n",
       "        vertical-align: top;\n",
       "    }\n",
       "\n",
       "    .dataframe thead th {\n",
       "        text-align: right;\n",
       "    }\n",
       "</style>\n",
       "<table border=\"1\" class=\"dataframe\">\n",
       "  <thead>\n",
       "    <tr style=\"text-align: right;\">\n",
       "      <th></th>\n",
       "      <th>Destination</th>\n",
       "      <th>Score</th>\n",
       "      <th>Average</th>\n",
       "      <th>Hotel</th>\n",
       "      <th>Visited city</th>\n",
       "      <th>Unnamed: 5</th>\n",
       "    </tr>\n",
       "  </thead>\n",
       "  <tbody>\n",
       "    <tr>\n",
       "      <th>3</th>\n",
       "      <td>Italy</td>\n",
       "      <td>9</td>\n",
       "      <td>6</td>\n",
       "      <td>200</td>\n",
       "      <td>Rome</td>\n",
       "      <td>NaN</td>\n",
       "    </tr>\n",
       "    <tr>\n",
       "      <th>5</th>\n",
       "      <td>France</td>\n",
       "      <td>9</td>\n",
       "      <td>1</td>\n",
       "      <td>120</td>\n",
       "      <td>paris</td>\n",
       "      <td>NaN</td>\n",
       "    </tr>\n",
       "    <tr>\n",
       "      <th>10</th>\n",
       "      <td>Thailand</td>\n",
       "      <td>9</td>\n",
       "      <td>4</td>\n",
       "      <td>120</td>\n",
       "      <td>bangok</td>\n",
       "      <td>NaN</td>\n",
       "    </tr>\n",
       "  </tbody>\n",
       "</table>\n",
       "</div>"
      ],
      "text/plain": [
       "   Destination  Score  Average  Hotel Visited city Unnamed: 5\n",
       "3        Italy      9        6    200         Rome        NaN\n",
       "5       France      9        1    120        paris        NaN\n",
       "10    Thailand      9        4    120       bangok        NaN"
      ]
     },
     "execution_count": 23,
     "metadata": {},
     "output_type": "execute_result"
    }
   ],
   "source": [
    "#Tassk 7 Filter te data by score above 8\n",
    "tourist_filter = (data[\"Score\"] > 8)\n",
    "filter=data[tourist_filter] \n",
    "filter.head(3)\n",
    "\n"
   ]
  },
  {
   "cell_type": "code",
   "execution_count": 10,
   "metadata": {},
   "outputs": [
    {
     "name": "stdout",
     "output_type": "stream",
     "text": [
      "   Owner_Surname  Pet_Name  Pet_Age  Last_Visit      Type Chipped Unnamed: 6\n",
      "0          Adams    Fluffy        2  11/05/2020       Cat     Yes           \n",
      "1          Smith      Zuko        8  30/01/2019       Dog     Yes        NaN\n",
      "2      Radcliffe      Nala        4  24/11/2019       Dog     Yes        NaN\n",
      "3        Holland  Mr Chips       10  15/06/2019       Dog      No        NaN\n",
      "4         Potter     Daisy        9  07/04/2020    Rabbit     Yes        NaN\n",
      "5         Sorola     Oscar        1  27/02/2020   Hamster      No        NaN\n",
      "6           Pike     Pepsi        6  18/09/2019       Cat     Yes        NaN\n",
      "7         Murray    George       17  12/02/2020  Tortoise      No        NaN\n",
      "8          Aston     Monty        3  09/03/2020       Dog     Yes        NaN\n",
      "9         Waller       Flo        7  06/05/2019       Cat     Yes        NaN\n",
      "10   De la Force     Anton        2  31/08/2019       Cat      No        NaN\n",
      "11          Reed     Farah        5  02/03/2020     Horse      No        NaN\n",
      "12      Martinez     Homer        6  24/11/2019       Dog     Yes        NaN\n",
      "13            Li      Iggy        5  14/12/2019       Dog     Yes        NaN\n",
      "14     Rodriquez     Bobby        3  28/02/2020    Rabbit      No        NaN\n"
     ]
    }
   ],
   "source": []
  },
  {
   "cell_type": "code",
   "execution_count": 15,
   "metadata": {},
   "outputs": [
    {
     "name": "stdout",
     "output_type": "stream",
     "text": [
      "        Type  Pet_Age Chipped\n",
      "0        Cat        2     Yes\n",
      "1        Dog        8     Yes\n",
      "2        Dog        4     Yes\n",
      "3        Dog       10      No\n",
      "4     Rabbit        9     Yes\n",
      "5    Hamster        1      No\n",
      "6        Cat        6     Yes\n",
      "7   Tortoise       17      No\n",
      "8        Dog        3     Yes\n",
      "9        Cat        7     Yes\n",
      "10       Cat        2      No\n",
      "11     Horse        5      No\n",
      "12       Dog        6     Yes\n",
      "13       Dog        5     Yes\n",
      "14    Rabbit        3      No\n"
     ]
    }
   ],
   "source": [
    "print(vetdata[[\"Type\", \"Pet_Age\", \"Chipped\"]])\n",
    "#print(touristdata[[\"Feeedback score\", \"Average\"]])"
   ]
  },
  {
   "cell_type": "code",
   "execution_count": 35,
   "metadata": {},
   "outputs": [
    {
     "name": "stdout",
     "output_type": "stream",
     "text": [
      "Dubai\n",
      "   Average  Hotel\n",
      "3        6    200\n",
      "4        5    100\n",
      "5        1    120\n",
      "6        5    130\n"
     ]
    }
   ],
   "source": [
    "#print row {3,8 using loc,iloc}\n",
    "touristdata2=pd.read_csv(\"holiday.csv\",index_col=\"Destination\")\n",
    "#print(touristdata2.loc[[\"India\",\"UAE\"]])\n",
    "#print(touristdata.iloc[[4,8]])\n",
    "data = pd.read_csv(\"holiday.csv\")\n",
    "print(data.iloc[7,4])\n",
    "print(data.iloc[3:7,2:4])"
   ]
  },
  {
   "cell_type": "code",
   "execution_count": null,
   "metadata": {},
   "outputs": [],
   "source": []
  },
  {
   "cell_type": "code",
   "execution_count": 41,
   "metadata": {},
   "outputs": [
    {
     "data": {
      "text/plain": [
       "127.33333333333333"
      ]
     },
     "execution_count": 41,
     "metadata": {},
     "output_type": "execute_result"
    }
   ],
   "source": [
    "#mean number of all inclusive hotel of all destinatiom\n",
    "import pandas as pd\n",
    "data=pd.read_csv(\"holiday.csv\")\n",
    "data[\"Hotel\"].mean()\n",
    "#data[\"Average\"].mean()\n"
   ]
  },
  {
   "cell_type": "code",
   "execution_count": 3,
   "metadata": {},
   "outputs": [
    {
     "data": {
      "text/html": [
       "<div>\n",
       "<style scoped>\n",
       "    .dataframe tbody tr th:only-of-type {\n",
       "        vertical-align: middle;\n",
       "    }\n",
       "\n",
       "    .dataframe tbody tr th {\n",
       "        vertical-align: top;\n",
       "    }\n",
       "\n",
       "    .dataframe thead th {\n",
       "        text-align: right;\n",
       "    }\n",
       "</style>\n",
       "<table border=\"1\" class=\"dataframe\">\n",
       "  <thead>\n",
       "    <tr style=\"text-align: right;\">\n",
       "      <th></th>\n",
       "      <th>Destination</th>\n",
       "      <th>Score</th>\n",
       "      <th>Average</th>\n",
       "      <th>Hotel</th>\n",
       "      <th>Visited city</th>\n",
       "      <th>Unnamed: 5</th>\n",
       "    </tr>\n",
       "  </thead>\n",
       "  <tbody>\n",
       "    <tr>\n",
       "      <th>0</th>\n",
       "      <td>India</td>\n",
       "      <td>6</td>\n",
       "      <td>5</td>\n",
       "      <td>120</td>\n",
       "      <td>Delhi</td>\n",
       "      <td></td>\n",
       "    </tr>\n",
       "    <tr>\n",
       "      <th>1</th>\n",
       "      <td>China</td>\n",
       "      <td>7</td>\n",
       "      <td>4</td>\n",
       "      <td>130</td>\n",
       "      <td>Beijing</td>\n",
       "      <td>NaN</td>\n",
       "    </tr>\n",
       "    <tr>\n",
       "      <th>2</th>\n",
       "      <td>Spain</td>\n",
       "      <td>6</td>\n",
       "      <td>5</td>\n",
       "      <td>140</td>\n",
       "      <td>Madrid</td>\n",
       "      <td>NaN</td>\n",
       "    </tr>\n",
       "    <tr>\n",
       "      <th>3</th>\n",
       "      <td>Italy</td>\n",
       "      <td>9</td>\n",
       "      <td>6</td>\n",
       "      <td>200</td>\n",
       "      <td>Rome</td>\n",
       "      <td>NaN</td>\n",
       "    </tr>\n",
       "    <tr>\n",
       "      <th>4</th>\n",
       "      <td>Greece</td>\n",
       "      <td>8</td>\n",
       "      <td>5</td>\n",
       "      <td>100</td>\n",
       "      <td>Corfu</td>\n",
       "      <td>NaN</td>\n",
       "    </tr>\n",
       "  </tbody>\n",
       "</table>\n",
       "</div>"
      ],
      "text/plain": [
       "  Destination  Score  Average  Hotel Visited city Unnamed: 5\n",
       "0       India      6        5    120        Delhi           \n",
       "1       China      7        4    130      Beijing        NaN\n",
       "2       Spain      6        5    140       Madrid        NaN\n",
       "3       Italy      9        6    200         Rome        NaN\n",
       "4      Greece      8        5    100        Corfu        NaN"
      ]
     },
     "execution_count": 3,
     "metadata": {},
     "output_type": "execute_result"
    }
   ],
   "source": [
    "import pandas as pd\n",
    "data = pd.read_csv(\"holiday.csv\")\n",
    "myfilter = data[\"Score\"] > 5\n",
    "highscore = data[myfilter]\n",
    "highscore.head()\n"
   ]
  },
  {
   "cell_type": "code",
   "execution_count": 52,
   "metadata": {},
   "outputs": [
    {
     "data": {
      "text/html": [
       "<div>\n",
       "<style scoped>\n",
       "    .dataframe tbody tr th:only-of-type {\n",
       "        vertical-align: middle;\n",
       "    }\n",
       "\n",
       "    .dataframe tbody tr th {\n",
       "        vertical-align: top;\n",
       "    }\n",
       "\n",
       "    .dataframe thead th {\n",
       "        text-align: right;\n",
       "    }\n",
       "</style>\n",
       "<table border=\"1\" class=\"dataframe\">\n",
       "  <thead>\n",
       "    <tr style=\"text-align: right;\">\n",
       "      <th></th>\n",
       "      <th>Destination</th>\n",
       "      <th>Score</th>\n",
       "      <th>Average</th>\n",
       "      <th>Hotel</th>\n",
       "      <th>Visited city</th>\n",
       "      <th>Unnamed: 5</th>\n",
       "    </tr>\n",
       "  </thead>\n",
       "  <tbody>\n",
       "    <tr>\n",
       "      <th>12</th>\n",
       "      <td>Poland</td>\n",
       "      <td>6</td>\n",
       "      <td>5</td>\n",
       "      <td>100</td>\n",
       "      <td>Pola</td>\n",
       "      <td>NaN</td>\n",
       "    </tr>\n",
       "    <tr>\n",
       "      <th>13</th>\n",
       "      <td>Switzerland</td>\n",
       "      <td>6</td>\n",
       "      <td>6</td>\n",
       "      <td>110</td>\n",
       "      <td>Geneva</td>\n",
       "      <td>NaN</td>\n",
       "    </tr>\n",
       "    <tr>\n",
       "      <th>14</th>\n",
       "      <td>Singapore</td>\n",
       "      <td>7</td>\n",
       "      <td>4</td>\n",
       "      <td>100</td>\n",
       "      <td>City</td>\n",
       "      <td>NaN</td>\n",
       "    </tr>\n",
       "  </tbody>\n",
       "</table>\n",
       "</div>"
      ],
      "text/plain": [
       "    Destination  Score  Average  Hotel Visited city Unnamed: 5\n",
       "12       Poland      6        5    100         Pola        NaN\n",
       "13  Switzerland      6        6    110       Geneva        NaN\n",
       "14    Singapore      7        4    100         City        NaN"
      ]
     },
     "execution_count": 52,
     "metadata": {},
     "output_type": "execute_result"
    }
   ],
   "source": [
    "# print the no of rows and colums\n",
    "import pandas as pd\n",
    "data=pd.read_csv(\"holiday.csv\")\n",
    "data.shape\n",
    "data.tail(3)\n"
   ]
  },
  {
   "cell_type": "code",
   "execution_count": 59,
   "metadata": {},
   "outputs": [
    {
     "data": {
      "text/html": [
       "<div>\n",
       "<style scoped>\n",
       "    .dataframe tbody tr th:only-of-type {\n",
       "        vertical-align: middle;\n",
       "    }\n",
       "\n",
       "    .dataframe tbody tr th {\n",
       "        vertical-align: top;\n",
       "    }\n",
       "\n",
       "    .dataframe thead th {\n",
       "        text-align: right;\n",
       "    }\n",
       "</style>\n",
       "<table border=\"1\" class=\"dataframe\">\n",
       "  <thead>\n",
       "    <tr style=\"text-align: right;\">\n",
       "      <th></th>\n",
       "      <th>Destination</th>\n",
       "      <th>Score</th>\n",
       "      <th>Average</th>\n",
       "      <th>Hotel</th>\n",
       "      <th>Visited city</th>\n",
       "      <th>Unnamed: 5</th>\n",
       "    </tr>\n",
       "  </thead>\n",
       "  <tbody>\n",
       "    <tr>\n",
       "      <th>3</th>\n",
       "      <td>Italy</td>\n",
       "      <td>9</td>\n",
       "      <td>6</td>\n",
       "      <td>200</td>\n",
       "      <td>Rome</td>\n",
       "      <td>NaN</td>\n",
       "    </tr>\n",
       "    <tr>\n",
       "      <th>5</th>\n",
       "      <td>France</td>\n",
       "      <td>9</td>\n",
       "      <td>1</td>\n",
       "      <td>120</td>\n",
       "      <td>paris</td>\n",
       "      <td>NaN</td>\n",
       "    </tr>\n",
       "    <tr>\n",
       "      <th>10</th>\n",
       "      <td>Thailand</td>\n",
       "      <td>9</td>\n",
       "      <td>4</td>\n",
       "      <td>120</td>\n",
       "      <td>bangok</td>\n",
       "      <td>NaN</td>\n",
       "    </tr>\n",
       "  </tbody>\n",
       "</table>\n",
       "</div>"
      ],
      "text/plain": [
       "   Destination  Score  Average  Hotel Visited city Unnamed: 5\n",
       "3        Italy      9        6    200         Rome        NaN\n",
       "5       France      9        1    120        paris        NaN\n",
       "10    Thailand      9        4    120       bangok        NaN"
      ]
     },
     "execution_count": 59,
     "metadata": {},
     "output_type": "execute_result"
    }
   ],
   "source": [
    "import pandas as pd\n",
    "data = pd.read_csv(\"Holiday.csv\")\n",
    "highscore = data[myfilter]\n",
    "highscore.tail()"
   ]
  },
  {
   "cell_type": "code",
   "execution_count": 55,
   "metadata": {},
   "outputs": [
    {
     "data": {
      "text/html": [
       "<div>\n",
       "<style scoped>\n",
       "    .dataframe tbody tr th:only-of-type {\n",
       "        vertical-align: middle;\n",
       "    }\n",
       "\n",
       "    .dataframe tbody tr th {\n",
       "        vertical-align: top;\n",
       "    }\n",
       "\n",
       "    .dataframe thead th {\n",
       "        text-align: right;\n",
       "    }\n",
       "</style>\n",
       "<table border=\"1\" class=\"dataframe\">\n",
       "  <thead>\n",
       "    <tr style=\"text-align: right;\">\n",
       "      <th></th>\n",
       "      <th>Destination</th>\n",
       "      <th>Score</th>\n",
       "      <th>Average</th>\n",
       "      <th>Hotel</th>\n",
       "      <th>Visited city</th>\n",
       "      <th>Unnamed: 5</th>\n",
       "    </tr>\n",
       "  </thead>\n",
       "  <tbody>\n",
       "    <tr>\n",
       "      <th>3</th>\n",
       "      <td>Italy</td>\n",
       "      <td>9</td>\n",
       "      <td>6</td>\n",
       "      <td>200</td>\n",
       "      <td>Rome</td>\n",
       "      <td>NaN</td>\n",
       "    </tr>\n",
       "    <tr>\n",
       "      <th>5</th>\n",
       "      <td>France</td>\n",
       "      <td>9</td>\n",
       "      <td>1</td>\n",
       "      <td>120</td>\n",
       "      <td>paris</td>\n",
       "      <td>NaN</td>\n",
       "    </tr>\n",
       "    <tr>\n",
       "      <th>10</th>\n",
       "      <td>Thailand</td>\n",
       "      <td>9</td>\n",
       "      <td>4</td>\n",
       "      <td>120</td>\n",
       "      <td>bangok</td>\n",
       "      <td>NaN</td>\n",
       "    </tr>\n",
       "  </tbody>\n",
       "</table>\n",
       "</div>"
      ],
      "text/plain": [
       "   Destination  Score  Average  Hotel Visited city Unnamed: 5\n",
       "3        Italy      9        6    200         Rome        NaN\n",
       "5       France      9        1    120        paris        NaN\n",
       "10    Thailand      9        4    120       bangok        NaN"
      ]
     },
     "execution_count": 55,
     "metadata": {},
     "output_type": "execute_result"
    }
   ],
   "source": [
    "import pandas as pd\n",
    "data = pd.read_csv(\"Holiday.csv\")\n",
    "highscore = data[myfilter]\n",
    "highscore.head()"
   ]
  },
  {
   "cell_type": "code",
   "execution_count": 2,
   "metadata": {},
   "outputs": [
    {
     "name": "stdout",
     "output_type": "stream",
     "text": [
      "    Destination  Score  Average  Hotel Visited city Unnamed: 5\n",
      "0         India      6        5    120        Delhi           \n",
      "1         China      7        4    130      Beijing        NaN\n",
      "2         Spain      6        5    140       Madrid        NaN\n",
      "3         Italy      9        6    200         Rome        NaN\n",
      "4        Greece      8        5    100        Corfu        NaN\n",
      "5        France      9        1    120        paris        NaN\n",
      "6           USA      6        5    130      newyork        NaN\n",
      "7           UAE      7        4    120        Dubai        NaN\n",
      "8      Portugal      6        3    150       Lisban        NaN\n",
      "9      Maldices      8        6    120        Maldi        NaN\n",
      "10     Thailand      9        4    120       bangok        NaN\n",
      "11       Africa      7        4    150       Durham        NaN\n",
      "12       Poland      6        5    100         Pola        NaN\n",
      "13  Switzerland      6        6    110       Geneva        NaN\n",
      "14    Singapore      7        4    100         City        NaN\n"
     ]
    },
    {
     "ename": "NameError",
     "evalue": "name 'touristdata' is not defined",
     "output_type": "error",
     "traceback": [
      "\u001b[1;31m---------------------------------------------------------------------------\u001b[0m",
      "\u001b[1;31mNameError\u001b[0m                                 Traceback (most recent call last)",
      "\u001b[1;32mc:\\Users\\valse\\OneDrive\\Desktop\\data academy\\pandas\\pandashomework.ipynb Cell 19'\u001b[0m in \u001b[0;36m<cell line: 6>\u001b[1;34m()\u001b[0m\n\u001b[0;32m      <a href='vscode-notebook-cell:/c%3A/Users/valse/OneDrive/Desktop/data%20academy/pandas/pandashomework.ipynb#ch0000022?line=3'>4</a>\u001b[0m \u001b[39mprint\u001b[39m(tourist)\n\u001b[0;32m      <a href='vscode-notebook-cell:/c%3A/Users/valse/OneDrive/Desktop/data%20academy/pandas/pandashomework.ipynb#ch0000022?line=4'>5</a>\u001b[0m tourist\u001b[39m.\u001b[39mshape\n\u001b[1;32m----> <a href='vscode-notebook-cell:/c%3A/Users/valse/OneDrive/Desktop/data%20academy/pandas/pandashomework.ipynb#ch0000022?line=5'>6</a>\u001b[0m \u001b[39mprint\u001b[39m(touristdata[[\u001b[39m\"\u001b[39m\u001b[39mScore\u001b[39m\u001b[39m\"\u001b[39m,\u001b[39m\"\u001b[39m\u001b[39mHotel\u001b[39m\u001b[39m\"\u001b[39m]])\n\u001b[0;32m      <a href='vscode-notebook-cell:/c%3A/Users/valse/OneDrive/Desktop/data%20academy/pandas/pandashomework.ipynb#ch0000022?line=6'>7</a>\u001b[0m tourist\u001b[39m.\u001b[39mcorr()\n\u001b[0;32m      <a href='vscode-notebook-cell:/c%3A/Users/valse/OneDrive/Desktop/data%20academy/pandas/pandashomework.ipynb#ch0000022?line=7'>8</a>\u001b[0m df\u001b[39m.\u001b[39mplot\n",
      "\u001b[1;31mNameError\u001b[0m: name 'touristdata' is not defined"
     ]
    }
   ],
   "source": [
    "#Is there a correlation between number of all-inclusive hotels and score\n",
    "import pandas as pd\n",
    "tourist=pd.read_csv(\"Holiday.csv\")\n",
    "print(tourist)\n",
    "tourist.shape\n",
    "print(touristdata[[\"Score\",\"Hotel\"]])\n",
    "tourist.corr()\n",
    "df.plot"
   ]
  },
  {
   "cell_type": "code",
   "execution_count": 20,
   "metadata": {},
   "outputs": [
    {
     "ename": "NameError",
     "evalue": "name 'tourist_file' is not defined",
     "output_type": "error",
     "traceback": [
      "\u001b[1;31m---------------------------------------------------------------------------\u001b[0m",
      "\u001b[1;31mNameError\u001b[0m                                 Traceback (most recent call last)",
      "\u001b[1;32mc:\\Users\\valse\\OneDrive\\Desktop\\data academy\\pandas\\pandashomework.ipynb Cell 25'\u001b[0m in \u001b[0;36m<cell line: 1>\u001b[1;34m()\u001b[0m\n\u001b[1;32m----> <a href='vscode-notebook-cell:/c%3A/Users/valse/OneDrive/Desktop/data%20academy/pandas/pandashomework.ipynb#ch0000024?line=0'>1</a>\u001b[0m tourist_file\u001b[39m.\u001b[39mplot\u001b[39m.\u001b[39mbar(y\u001b[39m=\u001b[39m\u001b[39m'\u001b[39m\u001b[39mScore\u001b[39m\u001b[39m'\u001b[39m)\n",
      "\u001b[1;31mNameError\u001b[0m: name 'tourist_file' is not defined"
     ]
    }
   ],
   "source": [
    "tourist_file.plot.bar(y='Score')"
   ]
  }
 ],
 "metadata": {
  "interpreter": {
   "hash": "49ba967e63a26be8a6ad6f0e62ebf27255e244b47e32acee286ca20eefdf1ba7"
  },
  "kernelspec": {
   "display_name": "Python 3.9.6 64-bit",
   "language": "python",
   "name": "python3"
  },
  "language_info": {
   "codemirror_mode": {
    "name": "ipython",
    "version": 3
   },
   "file_extension": ".py",
   "mimetype": "text/x-python",
   "name": "python",
   "nbconvert_exporter": "python",
   "pygments_lexer": "ipython3",
   "version": "3.10.3"
  },
  "orig_nbformat": 4
 },
 "nbformat": 4,
 "nbformat_minor": 2
}
