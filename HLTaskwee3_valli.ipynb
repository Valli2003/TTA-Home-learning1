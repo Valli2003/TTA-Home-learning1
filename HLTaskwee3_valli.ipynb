{
 "cells": [
  {
   "cell_type": "code",
   "execution_count": 1,
   "metadata": {},
   "outputs": [
    {
     "name": "stdout",
     "output_type": "stream",
     "text": [
      "motorbike_price = 2000\n"
     ]
    }
   ],
   "source": [
    "#Task 2 function\n",
    "price =2000\n",
    "print(\"motorbike_price =\", price)\n",
    "def function_1():\n",
    "    while price>1000:\n",
    "        print(price)\n",
    "        price=price*0.9\n",
    "    return price"
   ]
  },
  {
   "cell_type": "code",
   "execution_count": 15,
   "metadata": {},
   "outputs": [
    {
     "ename": "SyntaxError",
     "evalue": "invalid syntax (1107772817.py, line 7)",
     "output_type": "error",
     "traceback": [
      "\u001b[1;36m  Input \u001b[1;32mIn [15]\u001b[1;36m\u001b[0m\n\u001b[1;33m    bike_value =bike value*0.9\u001b[0m\n\u001b[1;37m                     ^\u001b[0m\n\u001b[1;31mSyntaxError\u001b[0m\u001b[1;31m:\u001b[0m invalid syntax\n"
     ]
    }
   ],
   "source": [
    "bike_price = 20000\n",
    "year      = 2020\n",
    "\n",
    "def function_value(bike_price):\n",
    "    while bike_value >1000 :\n",
    "        print(\"The bike is worth:\", bike_value)\n",
    "        bike_value =bike_value*0.9\n",
    "        return(bike_value)\n",
    "\n",
    "output=function_value(bike_price)"
   ]
  },
  {
   "cell_type": "code",
   "execution_count": 5,
   "metadata": {},
   "outputs": [],
   "source": [
    "#Task 3 mathematical operators function\n",
    "num_1=int(input(\"Please enter your first number\"))\n",
    "num_2=int(input(\"Please enter your second number\"))\n",
    "choice=input(\"Please type the operator you require,a to add, b to subtract,c to divide,d to multiply\")\n",
    "def procedure_calculator(num_1,num_2):\n",
    "     if choice == 'a':\n",
    "           print(num_1+num_2)\n",
    "     elif choice == 'b':\n",
    "         print(num_1-num_2)\n",
    "     elif choice == 'c':\n",
    "         print(num_1/num_2)    \n",
    "     elif choice ==' d':\n",
    "          print(num_1*num_2)\n",
    "     else:\n",
    "          print(\"input error please renter operator\")\n",
    "#procedure_calculator(num1,num2)   \n"
   ]
  }
 ],
 "metadata": {
  "interpreter": {
   "hash": "49ba967e63a26be8a6ad6f0e62ebf27255e244b47e32acee286ca20eefdf1ba7"
  },
  "kernelspec": {
   "display_name": "Python 3.9.6 64-bit",
   "language": "python",
   "name": "python3"
  },
  "language_info": {
   "codemirror_mode": {
    "name": "ipython",
    "version": 3
   },
   "file_extension": ".py",
   "mimetype": "text/x-python",
   "name": "python",
   "nbconvert_exporter": "python",
   "pygments_lexer": "ipython3",
   "version": "3.9.6"
  },
  "orig_nbformat": 4
 },
 "nbformat": 4,
 "nbformat_minor": 2
}
